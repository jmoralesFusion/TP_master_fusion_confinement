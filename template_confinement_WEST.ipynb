{
 "cells": [
  {
   "cell_type": "markdown",
   "metadata": {},
   "source": [
    "# Confinement analysis WEST"
   ]
  },
  {
   "cell_type": "code",
   "execution_count": null,
   "metadata": {
    "collapsed": false
   },
   "outputs": [],
   "source": [
    "import logging\n",
    "import matplotlib.pyplot as plt\n",
    "from matplotlib.colors import ListedColormap\n",
    "import numpy as np\n",
    "import os\n",
    "import pandas as pd\n",
    "import seaborn as sns\n",
    "import scipy\n",
    "import scipy.io as sio\n",
    "import scipy.interpolate as sc_interp\n",
    "import scipy.signal as sc_sig\n",
    "from scipy.optimize import curve_fit\n",
    "import sklearn\n",
    "from sklearn.feature_selection import SelectKBest, mutual_info_regression\n",
    "from sklearn import datasets, linear_model\n",
    "from sklearn.metrics import mean_squared_error, r2_score\n",
    "print('Logging version:', logging.__version__)\n",
    "print('Matplotlib version:', matplotlib.__version__)\n",
    "print('NumPy version:', np.__version__)\n",
    "print('Pandas version:', pd.__version__)\n",
    "print('Seaborn version:', sns.__version__)\n",
    "print('Scipy version:', scipy.__version__)\n",
    "print('Sklearn version:', sklearn.__version__)\n",
    "\n",
    "# Local modules\n",
    "import imas\n",
    "try:\n",
    "    import imas_west\n",
    "except ImportError as err:\n",
    "    print(' ')\n",
    "    print('WARNING: no module imas_west, warning:', err)\n",
    "    print(' ')\n",
    "try:\n",
    "    import pywed as pw\n",
    "except ImportError as err:\n",
    "    print(' ')\n",
    "    print('WARNING: no module pywed, warning:', err)\n",
    "    print(' ')"
   ]
  },
  {
   "cell_type": "markdown",
   "metadata": {},
   "source": [
    "## Read data"
   ]
  },
  {
   "cell_type": "markdown",
   "metadata": {},
   "source": [
    "### C4"
   ]
  },
  {
   "cell_type": "code",
   "execution_count": null,
   "metadata": {
    "collapsed": true
   },
   "outputs": [],
   "source": [
    "pathfile = '/Imas_public/public/plateau_statistics/west/'\n",
    "filename = 'reduced_dataBase_C4_WEST.h'"
   ]
  },
  {
   "cell_type": "code",
   "execution_count": null,
   "metadata": {
    "collapsed": false
   },
   "outputs": [],
   "source": [
    "stor = pd.HDFStore(pathfile+filename)"
   ]
  },
  {
   "cell_type": "code",
   "execution_count": null,
   "metadata": {
    "collapsed": false
   },
   "outputs": [],
   "source": [
    "stats = stor['stats']\n",
    "sig   = stor['signals']\n",
    "stor.close()"
   ]
  },
  {
   "cell_type": "code",
   "execution_count": null,
   "metadata": {
    "collapsed": false
   },
   "outputs": [],
   "source": [
    "stats.shape"
   ]
  },
  {
   "cell_type": "code",
   "execution_count": null,
   "metadata": {
    "collapsed": false
   },
   "outputs": [],
   "source": [
    "stats.tail()"
   ]
  },
  {
   "cell_type": "markdown",
   "metadata": {},
   "source": [
    "## Example: computation radiated fraction and P_rad divertor"
   ]
  },
  {
   "cell_type": "code",
   "execution_count": null,
   "metadata": {
    "collapsed": true
   },
   "outputs": [],
   "source": [
    "stats['P_radDiv_mean_plto']  = stats['P_rad_mean_plto'] - stats['P_radBulk_mean_plto']"
   ]
  },
  {
   "cell_type": "code",
   "execution_count": null,
   "metadata": {
    "collapsed": true
   },
   "outputs": [],
   "source": [
    "stats['f_rad_mean_plto']     = stats['P_rad_mean_plto'] / stats['P_TOT_mean_plto']\n",
    "stats['f_radBulk_mean_plto'] = stats['P_radBulk_mean_plto'] / stats['P_TOT_mean_plto']\n",
    "stats['f_radDiv_mean_plto']  = stats['P_radDiv_mean_plto'] / stats['P_TOT_mean_plto']"
   ]
  },
  {
   "cell_type": "code",
   "execution_count": null,
   "metadata": {
    "collapsed": false
   },
   "outputs": [],
   "source": [
    "stats[['P_radDiv_mean_plto', 'f_rad_mean_plto', 'f_radBulk_mean_plto', 'f_radDiv_mean_plto', 'te_mean_plto', 'ne3_mean_plto']].describe()"
   ]
  },
  {
   "cell_type": "code",
   "execution_count": null,
   "metadata": {
    "collapsed": true
   },
   "outputs": [],
   "source": [
    "sig['P_radDiv'] = sig['P_rad'] - sig['P_radBulk'] "
   ]
  },
  {
   "cell_type": "code",
   "execution_count": null,
   "metadata": {
    "collapsed": true
   },
   "outputs": [],
   "source": [
    "sig['f_rad']     = sig['P_rad'] / sig['P_TOT']\n",
    "sig['f_radBulk'] = sig['P_radBulk'] / sig['P_TOT']\n",
    "sig['f_radDiv']  = sig['P_radDiv'] / sig['P_TOT']"
   ]
  },
  {
   "cell_type": "code",
   "execution_count": null,
   "metadata": {
    "collapsed": false
   },
   "outputs": [],
   "source": [
    "shot_plt = 54719\n",
    "sns.set('talk', font_scale=1.2, rc={'figure.figsize':(17, 5.5)})\n",
    "plt.subplots_adjust(wspace=0.15, hspace=0.)\n",
    "plt.subplot(1, 2, 1)\n",
    "plt.plot(sig['time'][shot_plt], sig['f_rad'][shot_plt], 'r', label='f_rad')\n",
    "plt.plot(sig['time'][shot_plt], sig['f_radBulk'][shot_plt], 'b', label='f_radBulk')\n",
    "plt.plot(sig['time'][shot_plt], sig['f_radDiv'][shot_plt], 'g', label='f_radDiv')\n",
    "plt.ylim((0, 1))\n",
    "plt.legend();\n",
    "plt.subplot(1, 2, 2)\n",
    "plt.plot(sig['time'][shot_plt], 1.E-6*sig['P_TOT'][shot_plt], label='P_TOT')\n",
    "for ii in range(len(stats['P_TOT_mean_plto'][shot_plt])):\n",
    "    plt.plot(np.linspace(stats['tIni_plto'][shot_plt][ii], \\\n",
    "                         stats['tEnd_plto'][shot_plt][ii], 10),\n",
    "             np.linspace(1.E-6*stats['P_TOT_mean_plto'][shot_plt][ii], \\\n",
    "                         1.E-6*stats['P_TOT_mean_plto'][shot_plt][ii], 10), \\\n",
    "            linewidth=5, label='plateau '+str(ii))\n",
    "plt.ylim((0, 6))\n",
    "plt.legend();"
   ]
  },
  {
   "cell_type": "markdown",
   "metadata": {},
   "source": [
    "## Filter data"
   ]
  },
  {
   "cell_type": "code",
   "execution_count": null,
   "metadata": {
    "collapsed": true
   },
   "outputs": [],
   "source": [
    "stats = stats[(stats['eq_q_95_mean_plto'] < 20.) \\\n",
    "              & (stats['P_COND_mean_plto'] > 0.) \\\n",
    "              & (stats['f_rad_mean_plto'] > 0.26) \\\n",
    "              & (stats['eq_w_mhd_mean_plto'] > 0) \\\n",
    "              & ((stats['shot'] < 55625) | (stats['shot'] > 55643))]# & (stats['te_mean_plto'] > -1.E10) & (stats['ne3_mean_plto'] > -1.E10)]"
   ]
  },
  {
   "cell_type": "markdown",
   "metadata": {},
   "source": [
    "## First shot after boronisation"
   ]
  },
  {
   "cell_type": "code",
   "execution_count": null,
   "metadata": {
    "collapsed": true
   },
   "outputs": [],
   "source": [
    "after_boro_shot = [53453, 54288, 54403, 54502, 54596, 54719, 54881, 55000, 55138, 55499, 55548, 55747, 55795]"
   ]
  },
  {
   "cell_type": "code",
   "execution_count": null,
   "metadata": {
    "collapsed": true
   },
   "outputs": [],
   "source": [
    "boro_shot_distance     = np.full(stats['shot'].size, np.nan)\n",
    "boro_shot_distance_all = np.full(len(after_boro_shot), np.nan)\n",
    "for jj in range(stats['shot'].size):\n",
    "    for ii in range(len(after_boro_shot)):\n",
    "        boro_shot_distance_all[ii] = stats['shot'][jj] - after_boro_shot[ii]\n",
    "    if (~np.all(boro_shot_distance_all < 0) and ~np.all(np.isnan(boro_shot_distance_all))):\n",
    "        try:\n",
    "            boro_shot_distance[jj] = np.nanmin(boro_shot_distance_all[boro_shot_distance_all >= 0])\n",
    "        except:\n",
    "            print(jj)\n",
    "            print(stats['shot'][jj])\n",
    "            print(boro_shot_distance_all)\n",
    "            raise\n",
    "stats['boro_shot_distance'] = boro_shot_distance"
   ]
  },
  {
   "cell_type": "code",
   "execution_count": null,
   "metadata": {
    "collapsed": false
   },
   "outputs": [],
   "source": [
    "plt.scatter(stats['shot'], stats['boro_shot_distance']);"
   ]
  },
  {
   "cell_type": "markdown",
   "metadata": {},
   "source": [
    "## Helium shots"
   ]
  },
  {
   "cell_type": "code",
   "execution_count": null,
   "metadata": {
    "collapsed": true
   },
   "outputs": [],
   "source": [
    "helium_shots = [(55230, 55498), (55827, 55987)]"
   ]
  },
  {
   "cell_type": "code",
   "execution_count": null,
   "metadata": {
    "collapsed": true
   },
   "outputs": [],
   "source": [
    "for iishot in helium_shots:\n",
    "    #print(iishot[0])\n",
    "    stats = stats[(stats['shot'] < iishot[0]) | (stats['shot'] > iishot[1])]"
   ]
  },
  {
   "cell_type": "code",
   "execution_count": null,
   "metadata": {
    "collapsed": false
   },
   "outputs": [],
   "source": [
    "stats.shape"
   ]
  }
 ],
 "metadata": {
  "kernelspec": {
   "display_name": "Python 3",
   "language": "python",
   "name": "python3"
  },
  "language_info": {
   "codemirror_mode": {
    "name": "ipython",
    "version": 3
   },
   "file_extension": ".py",
   "mimetype": "text/x-python",
   "name": "python",
   "nbconvert_exporter": "python",
   "pygments_lexer": "ipython3",
   "version": "3.6.9"
  }
 },
 "nbformat": 4,
 "nbformat_minor": 2
}
